{
 "cells": [
  {
   "cell_type": "code",
   "execution_count": 10,
   "id": "3d195874-f70c-4ab8-b24b-d0aedba49ae3",
   "metadata": {},
   "outputs": [
    {
     "data": {
      "text/html": [
       "<a href=\"https://6bf2f643c5b71c53-dot-us-west1.pipelines.googleusercontent.com/#/experiments/details/1d64dce7-60fb-4c13-9575-6d1ac7c1f31a\" target=\"_blank\" >Experiment details</a>."
      ],
      "text/plain": [
       "<IPython.core.display.HTML object>"
      ]
     },
     "metadata": {},
     "output_type": "display_data"
    },
    {
     "data": {
      "text/html": [
       "<a href=\"https://6bf2f643c5b71c53-dot-us-west1.pipelines.googleusercontent.com/#/runs/details/ca8025b7-2d0b-4fde-a4cc-5b53cf37ec61\" target=\"_blank\" >Run details</a>."
      ],
      "text/plain": [
       "<IPython.core.display.HTML object>"
      ]
     },
     "metadata": {},
     "output_type": "display_data"
    },
    {
     "data": {
      "text/plain": [
       "RunPipelineResult(run_id=ca8025b7-2d0b-4fde-a4cc-5b53cf37ec61)"
      ]
     },
     "execution_count": 10,
     "metadata": {},
     "output_type": "execute_result"
    }
   ],
   "source": [
    "import kfp\n",
    "import kfp.components as comp\n",
    "\n",
    "create_step_preprocess = comp.load_component_from_text(\"\"\"\n",
    "name: Preprocess Boston House Price Model Data\n",
    "description: Load necessary data from GCS and perform basic pre-processing steps\n",
    "\n",
    "inputs:\n",
    "- {name: Input 1, type: String, description: 'Cloud bucket name containing raw data'}\n",
    "- {name: Input 2, type: String, description: 'Relative path containing house_price.csv'}\n",
    "- {name: Input 3, type: String, description: 'Relative path containing config.json'}\n",
    "\n",
    "\n",
    "- {name: Input 4, type: String, description: 'Save file name for house_price.csv'}\n",
    "- {name: Input 5, type: String, description: 'Save file name for config.json'}\n",
    "\n",
    "outputs:\n",
    "- {name: Output 1, type: Data, description: 'Path of the local folder where the main_data_preprocessed.csv should be written.'}\n",
    "\n",
    "implementation:\n",
    "  container:\n",
    "    image: us-west2-docker.pkg.dev/ml-model-monitoring-framework/house-price-preprocess-docker-repo/quickstart-image@sha256:f8cc53ff6ac44f9ddeea27c35d96794e060162fa82764c3912351183c2c78520\n",
    "    # command is a list of strings (command-line arguments). \n",
    "    # The YAML language has two syntaxes for lists and you can use either of them. \n",
    "    # Here we use the \"flow syntax\" - comma-separated strings inside square brackets.\n",
    "    command: [\n",
    "      python3, \n",
    "      # Path of the program inside the container\n",
    "      data-preprocessing.py,\n",
    "      --input1-path,\n",
    "      {inputValue: Input 1},\n",
    "      --input2-path,\n",
    "      {inputValue: Input 2},\n",
    "      --input3-path,\n",
    "      {inputValue: Input 3},\n",
    "      \n",
    "      --input4-path,\n",
    "      {inputValue: Input 4},\n",
    "      --input5-path,\n",
    "      {inputValue: Input 5},\n",
    "      \n",
    "      --output1-path, \n",
    "      {outputPath: Output 1}\n",
    "    ]\"\"\")\n",
    "\n",
    "\n",
    "\n",
    "\n",
    "create_step_model_training = comp.load_component_from_text(\"\"\"\n",
    "name: Boston House Price Model Training\n",
    "description: Boston House Price Model Training\n",
    "\n",
    "inputs:\n",
    "- {name: Input 1, type: String, description: 'Cloud bucket name containing raw data'}\n",
    "- {name: Input 2, type: Data, description: 'Relative path main_data_preprocessed.csv'}\n",
    "- {name: Input 3, type: String, description: 'Relative path containing config.json'}\n",
    "\n",
    "- {name: Input 4, type: String, description: 'Save file name for config.json'}\n",
    "\n",
    "- {name: Parameter 1, type: String, description: 'Pre-processed main file name'}\n",
    "- {name: Parameter 2, type: String, description: 'Relative path of the GCS location to upload model artifacts'}\n",
    "\n",
    "outputs:\n",
    "- {name: Output 1, type: Data, description: 'Path of the local folder where model artifacts should be written.'}\n",
    "\n",
    "\n",
    "implementation:\n",
    "  container:\n",
    "    image: us-west2-docker.pkg.dev/ml-model-monitoring-framework/house-price-train-docker-repo/quickstart-image@sha256:af315bfc950929f18df84fb128afd7af76463d4faf43be1d8fe21ad4824ab092\n",
    "    # command is a list of strings (command-line arguments). \n",
    "    # The YAML language has two syntaxes for lists and you can use either of them. \n",
    "    # Here we use the \"flow syntax\" - comma-separated strings inside square brackets.\n",
    "    command: [\n",
    "      python3, \n",
    "      # Path of the program inside the container\n",
    "      XGBoost-train.py,\n",
    "      --input1-path,\n",
    "      {inputValue: Input 1},\n",
    "      --input2-path,\n",
    "      {inputPath: Input 2},\n",
    "      --input3-path,\n",
    "      {inputValue: Input 3},\n",
    "      --input4-path,\n",
    "      {inputValue: Input 4},\n",
    "      \n",
    "      --output1-path, \n",
    "      {outputPath: Output 1},\n",
    "      \n",
    "      --param1, \n",
    "      {inputValue: Parameter 1},\n",
    "      --param2, \n",
    "      {inputValue: Parameter 2},\n",
    "      \n",
    "      \n",
    "    ]\n",
    "\"\"\")\n",
    "\n",
    "# Define your pipeline \n",
    "def my_pipeline():\n",
    "    preprocess_step = create_step_preprocess(\n",
    "        input_1='boston-house-prices',input_2='raw_data/housing.csv',\n",
    "        input_3='config/housing_price_model_config.json',input_4='housing.csv',\n",
    "        input_5='housing_price_model_config.json'\n",
    "    \n",
    "    )\n",
    "\n",
    "    \n",
    "    \n",
    "    model_triaining_step = create_step_model_training(\n",
    "        input_1='boston-house-prices',\n",
    "        input_2=preprocess_step.outputs['Output 1'],\n",
    "        input_3='config/housing_price_model_config.json',input_4='housing.csv',\n",
    "        \n",
    "         parameter_1='main_data_preprocessed.csv', parameter_2 = 'model_artifacts'\n",
    "    )\n",
    "    \n",
    "\n",
    "## replace host with client URL\n",
    "client = kfp.Client(host='')\n",
    "\n",
    "client.create_run_from_pipeline_func(my_pipeline, arguments={})"
   ]
  },
  {
   "cell_type": "code",
   "execution_count": null,
   "id": "3f809ac8-f0b8-4368-9378-1c09fc4a8d69",
   "metadata": {},
   "outputs": [],
   "source": [
    "python3 data-preprocessing.py --input1-path 'boston-house-prices'  --input2-path 'raw_data/housing.csv'  --input3-path 'config/housing_price_model_config.json' --input4-path 'housing.csv'  --input5-path 'housing_price_model_config.json' --output1-path 'data/preprocessed/'"
   ]
  },
  {
   "cell_type": "code",
   "execution_count": null,
   "id": "ccbb352c-7f29-44e7-81d8-af9a4a625dc4",
   "metadata": {},
   "outputs": [],
   "source": [
    "python3 XGBoost-train.py --input1-path 'boston-house-prices'  --input2-path 'data/preprocessed'   --input3-path 'config/housing_price_model_config.json'   --input4-path 'config.json'  --output1-path 'model' --param1 'main_data_preprocessed.csv' "
   ]
  }
 ],
 "metadata": {
  "environment": {
   "kernel": "python3",
   "name": "common-cpu.m104",
   "type": "gcloud",
   "uri": "gcr.io/deeplearning-platform-release/base-cpu:m104"
  },
  "kernelspec": {
   "display_name": "Python 3",
   "language": "python",
   "name": "python3"
  },
  "language_info": {
   "codemirror_mode": {
    "name": "ipython",
    "version": 3
   },
   "file_extension": ".py",
   "mimetype": "text/x-python",
   "name": "python",
   "nbconvert_exporter": "python",
   "pygments_lexer": "ipython3",
   "version": "3.7.12"
  }
 },
 "nbformat": 4,
 "nbformat_minor": 5
}
